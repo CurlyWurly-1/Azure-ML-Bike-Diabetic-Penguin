endpoint = 'YOUR_ENDPOINT' #Replace with your endpoint
key = 'YOUR_KEY' #Replace with your key

import json
import requests

#Set the content type and authentication for the request
headers = {"Content-Type":"application/json",
        "Authorization":"Bearer " + key}

data = [
      {"day": 1, "mnth": 1, "year": 2022, "season": 1, "holiday": 0, "weekday": 6, "workingday": 0, "weathersit": 2, 
       "temp": 0.344167, "atemp": 0.344167, "hum": 0.805833, "windspeed": 0.160446 },
      {"day": 2, "mnth": 1, "year": 2022, "season": 1, "holiday": 0, "weekday": 0, "workingday": 0, "weathersit": 2, 
       "temp": 0.363478, "atemp": 0.353739, "hum": 0.696087, "windspeed": 0.248539 },
      {"day": 3, "mnth": 1, "year": 2022, "season": 1, "holiday": 0, "weekday": 1, "workingday": 1, "weathersit": 1, 
       "temp": 0.196364, "atemp": 0.189405, "hum": 0.437273, "windspeed": 0.248309 },
      {"day": 4, "mnth": 1, "year": 2022, "season": 1, "holiday": 0, "weekday": 2, "workingday": 1, "weathersit": 1, 
       "temp": 0.2,      "atemp": 0.212122, "hum": 0.590435, "windspeed": 0.160296},
      {"day": 5, "mnth": 1, "year": 2022, "season": 1, "holiday": 0, "weekday": 3, "workingday": 1, "weathersit": 1, 
       "temp": 0.226957, "atemp": 0.22927,  "hum": 0.436957, "windspeed": 0.1869 }
] 
xx_json = ({"data": data})
xx_json = json.dumps({"Inputs": xx_json})
body    = str.encode(xx_json)
#print(input_json)

#Send the request
response = requests.post(endpoint, body, headers=headers)
#print(response.json())

#If we got a valid response, display the predictions
if response.status_code == 200:
    y = response.json()
    print("Predictions:")
    for i in range(len(data)):
        print (" Record: {}. Predicted rentals: {}".format(i+1, max(0, round(y["Results"][i]))))
else:
    print(response)