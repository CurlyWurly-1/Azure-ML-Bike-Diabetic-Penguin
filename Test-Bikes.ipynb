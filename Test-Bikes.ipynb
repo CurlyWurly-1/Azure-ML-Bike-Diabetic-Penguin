{
 "cells": [
  {
   "cell_type": "code",
   "execution_count": null,
   "metadata": {},
   "outputs": [],
   "source": [
    "endpoint = 'YOUR_ENDPOINT' #Replace with your endpoint\n",
    "key = 'YOUR_KEY' #Replace with your key\n",
    "\n",
    "import json\n",
    "import requests\n",
    "\n",
    "#Set the content type and authentication for the request\n",
    "headers = {\"Content-Type\":\"application/json\",\n",
    "        \"Authorization\":\"Bearer \" + key}\n",
    "\n",
    "data = [\n",
    "      {\"day\": 1, \"mnth\": 1, \"year\": 2022, \"season\": 1, \"holiday\": 0, \"weekday\": 6, \"workingday\": 0, \"weathersit\": 2, \n",
    "       \"temp\": 0.344167, \"atemp\": 0.344167, \"hum\": 0.805833, \"windspeed\": 0.160446 },\n",
    "      {\"day\": 2, \"mnth\": 1, \"year\": 2022, \"season\": 1, \"holiday\": 0, \"weekday\": 0, \"workingday\": 0, \"weathersit\": 2, \n",
    "       \"temp\": 0.363478, \"atemp\": 0.353739, \"hum\": 0.696087, \"windspeed\": 0.248539 },\n",
    "      {\"day\": 3, \"mnth\": 1, \"year\": 2022, \"season\": 1, \"holiday\": 0, \"weekday\": 1, \"workingday\": 1, \"weathersit\": 1, \n",
    "       \"temp\": 0.196364, \"atemp\": 0.189405, \"hum\": 0.437273, \"windspeed\": 0.248309 },\n",
    "      {\"day\": 4, \"mnth\": 1, \"year\": 2022, \"season\": 1, \"holiday\": 0, \"weekday\": 2, \"workingday\": 1, \"weathersit\": 1, \n",
    "       \"temp\": 0.2,      \"atemp\": 0.212122, \"hum\": 0.590435, \"windspeed\": 0.160296},\n",
    "      {\"day\": 5, \"mnth\": 1, \"year\": 2022, \"season\": 1, \"holiday\": 0, \"weekday\": 3, \"workingday\": 1, \"weathersit\": 1, \n",
    "       \"temp\": 0.226957, \"atemp\": 0.22927,  \"hum\": 0.436957, \"windspeed\": 0.1869 }\n",
    "] \n",
    "xx_json = ({\"data\": data})\n",
    "xx_json = json.dumps({\"Inputs\": xx_json})\n",
    "body    = str.encode(xx_json)\n",
    "#print(input_json)\n",
    "\n",
    "#Send the request\n",
    "response = requests.post(endpoint, body, headers=headers)\n",
    "#print(response.json())\n",
    "\n",
    "#If we got a valid response, display the predictions\n",
    "if response.status_code == 200:\n",
    "    y = response.json()\n",
    "    print(\"Predictions:\")\n",
    "    for i in range(len(data)):\n",
    "        print (\" Record: {}. Predicted rentals: {}\".format(i+1, max(0, round(y[\"Results\"][i]))))\n",
    "else:\n",
    "    print(response)"
   ]
  }
 ],
 "metadata": {
  "language_info": {
   "name": "python"
  },
  "orig_nbformat": 4
 },
 "nbformat": 4,
 "nbformat_minor": 2
}
