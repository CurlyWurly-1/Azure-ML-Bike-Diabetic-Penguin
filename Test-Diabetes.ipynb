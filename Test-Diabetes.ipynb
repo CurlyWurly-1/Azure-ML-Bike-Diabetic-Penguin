endpoint = 'YOUR_ENDPOINT' #Replace with your endpoint
key = 'YOUR_KEY' #Replace with your key

import json
import requests

#Set the content type and authentication for the request
headers = {"Content-Type":"application/json",
        "Authorization":"Bearer " + key}

data = [
   {
        "PatientID": 1354778,
        "Pregnancies": 0,
        "PlasmaGlucose": 171,
        "DiastolicBloodPressure": 80,
        "TricepsThickness": 34,
        "SerumInsulin": 23,
        "BMI": 43.50972593,
        "DiabetesPedigree": 1.213191354,
        "Age": 21,
        "Diabetic": 0
      },
      {
        "PatientID": 1147438,
        "Pregnancies": 8,
        "PlasmaGlucose": 92,
        "DiastolicBloodPressure": 93,
        "TricepsThickness": 47,
        "SerumInsulin": 36,
        "BMI": 21.24057571,
        "DiabetesPedigree": 0.158364981,
        "Age": 23,
        "Diabetic": 0
      },
      {
        "PatientID": 1883350,
        "Pregnancies": 9,
        "PlasmaGlucose": 103,
        "DiastolicBloodPressure": 78,
        "TricepsThickness": 25,
        "SerumInsulin": 304,
        "BMI": 29.58219193,
        "DiabetesPedigree": 1.282869847,
        "Age": 43,
        "Diabetic": 1
      }
] 
xx_json = ({"input1": data})
xx_json = json.dumps({"Inputs": xx_json})
body    = str.encode(xx_json)
#print(input_json)

#Send the request
response = requests.post(endpoint, body, headers=headers)
#print(response.json())

#If we got a valid response, display the predictions
if response.status_code == 200:
    y = response.json()
    print("Predictions:")
    for i in range(len(data)):
        print (" Record: {}. Actual indicator: {} , Predicted {} ".format(i+1, y["Results"]["WebServiceOutput0"][i]["Diabetic"],y["Results"]["WebServiceOutput0"][i]["Scored Labels"]))
else:
    print(response)