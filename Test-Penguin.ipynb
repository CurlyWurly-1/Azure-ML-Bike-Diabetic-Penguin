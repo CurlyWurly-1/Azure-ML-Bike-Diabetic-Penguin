{
 "cells": [
  {
   "cell_type": "code",
   "execution_count": null,
   "metadata": {},
   "outputs": [],
   "source": [
    "endpoint = 'YOUR_ENDPOINT' #Replace with your endpoint\n",
    "key = 'YOUR_KEY' #Replace with your key\n",
    "\n",
    "import json\n",
    "import requests\n",
    "\n",
    "#Set the content type and authentication for the request\n",
    "headers = {\"Content-Type\":\"application/json\",\n",
    "        \"Authorization\":\"Bearer \" + key}\n",
    "\n",
    "data = [\n",
    "      {\"CulmenLength\": 39.1, \"CulmenDepth\": 18.7, \"FlipperLength\": 181, \"BodyMass\": 3750 },\n",
    "      {\"CulmenLength\": 49.1, \"CulmenDepth\": 14.8, \"FlipperLength\": 220, \"BodyMass\": 5150 },\n",
    "      {\"CulmenLength\": 46.6, \"CulmenDepth\": 17.8, \"FlipperLength\": 193, \"BodyMass\": 3800 },\n",
    "] \n",
    "xx_json = ({\"input1\": data})\n",
    "xx_json = json.dumps({\"Inputs\": xx_json})\n",
    "body    = str.encode(xx_json)\n",
    "#print(input_json)\n",
    "\n",
    "#Send the request\n",
    "response = requests.post(endpoint, body, headers=headers)\n",
    "#print(response.json())\n",
    "\n",
    "#If we got a valid response, display the predictions\n",
    "if response.status_code == 200:\n",
    "    y = response.json()\n",
    "    print(\"Predictions:\")\n",
    "    for i in range(len(data)):\n",
    "        print (\" Record: {}. Predicted Penguin Type: {}\".format(i+1, y[\"Results\"][\"WebServiceOutput0\"][i][\"Assignments\"]))\n",
    "else:\n",
    "    print(response)"
   ]
  }
 ],
 "metadata": {
  "language_info": {
   "name": "python"
  },
  "orig_nbformat": 4
 },
 "nbformat": 4,
 "nbformat_minor": 2
}
