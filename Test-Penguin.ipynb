endpoint = 'YOUR_ENDPOINT' #Replace with your endpoint
key = 'YOUR_KEY' #Replace with your key

import json
import requests

#Set the content type and authentication for the request
headers = {"Content-Type":"application/json",
        "Authorization":"Bearer " + key}

data = [
      {"CulmenLength": 39.1, "CulmenDepth": 18.7, "FlipperLength": 181, "BodyMass": 3750 },
      {"CulmenLength": 49.1, "CulmenDepth": 14.8, "FlipperLength": 220, "BodyMass": 5150 },
      {"CulmenLength": 46.6, "CulmenDepth": 17.8, "FlipperLength": 193, "BodyMass": 3800 },
] 
xx_json = ({"input1": data})
xx_json = json.dumps({"Inputs": xx_json})
body    = str.encode(xx_json)
#print(input_json)

#Send the request
response = requests.post(endpoint, body, headers=headers)
#print(response.json())

#If we got a valid response, display the predictions
if response.status_code == 200:
    y = response.json()
    print("Predictions:")
    for i in range(len(data)):
        print (" Record: {}. Predicted Penguin Type: {}".format(i+1, y["Results"]["WebServiceOutput0"][i]["Assignments"]))
else:
    print(response)